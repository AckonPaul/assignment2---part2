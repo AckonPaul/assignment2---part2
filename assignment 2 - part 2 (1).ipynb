{
 "cells": [
  {
   "cell_type": "markdown",
   "id": "441e2d0c",
   "metadata": {},
   "source": [
    "                             # Met-452 assignment 2  \n",
    "                                     Part 2                                     \n",
    "                                   Ackon Paul                                   \n",
    "                                    4288920                                     \n"
   ]
  },
  {
   "cell_type": "code",
   "execution_count": null,
   "id": "e1b45a4e",
   "metadata": {},
   "outputs": [],
   "source": []
  },
  {
   "cell_type": "code",
   "execution_count": 34,
   "id": "9bd7d17c",
   "metadata": {},
   "outputs": [],
   "source": [
    "import numpy as np\n",
    "import matplotlib.pyplot as plt"
   ]
  },
  {
   "cell_type": "code",
   "execution_count": 35,
   "id": "547223ac",
   "metadata": {},
   "outputs": [],
   "source": [
    "# Sample observational data (in degrees Celsius)\n",
    "observations = np.array([15.2, 16.1, 14.5, 15.8, 25.0])\n"
   ]
  },
  {
   "cell_type": "code",
   "execution_count": 36,
   "id": "95b4b69b",
   "metadata": {},
   "outputs": [],
   "source": [
    "# Sample model predictions (in degrees Celsius)\n",
    "model_output = np.array([14.8, 15.5, 14.0, 16.0, 25.3])"
   ]
  },
  {
   "cell_type": "markdown",
   "id": "15f2f898",
   "metadata": {},
   "source": [
    " Assume an observation error standard deviation"
   ]
  },
  {
   "cell_type": "code",
   "execution_count": 37,
   "id": "632e8eac",
   "metadata": {},
   "outputs": [],
   "source": [
    "sigma_o = 0.2  # Observation error variance"
   ]
  },
  {
   "cell_type": "markdown",
   "id": "5fbff68a",
   "metadata": {},
   "source": [
    "Assume a model error standard deviation"
   ]
  },
  {
   "cell_type": "code",
   "execution_count": 38,
   "id": "ebae6846",
   "metadata": {},
   "outputs": [],
   "source": [
    "sigma_m = 0.5  # Model error variance"
   ]
  },
  {
   "cell_type": "markdown",
   "id": "4c2a848e",
   "metadata": {},
   "source": [
    "Calculate the Kalman gain"
   ]
  },
  {
   "cell_type": "code",
   "execution_count": 70,
   "id": "e534da0f",
   "metadata": {},
   "outputs": [],
   "source": [
    "K = sigma_m2 / (sigma_m2 + sigma_o2)"
   ]
  },
  {
   "cell_type": "markdown",
   "id": "9eb4cd15",
   "metadata": {},
   "source": [
    " Perform the optimal interpolation"
   ]
  },
  {
   "cell_type": "code",
   "execution_count": null,
   "id": "391b733b",
   "metadata": {},
   "outputs": [],
   "source": [
    "analysis = model_output + K * (observations - model_output)"
   ]
  },
  {
   "cell_type": "markdown",
   "id": "3beaac20",
   "metadata": {},
   "source": [
    " Function to calculate Bias and RMSE"
   ]
  },
  {
   "cell_type": "code",
   "execution_count": 77,
   "id": "2b9b4f6a",
   "metadata": {},
   "outputs": [],
   "source": [
    "def rmse(predictions, targets):\n",
    "    return np.sqrt(((predictions - targets) ** 2).mean())\n",
    "\n",
    "def bias(predictions, targets):\n",
    "    return (predictions - targets).mean()\n"
   ]
  },
  {
   "cell_type": "markdown",
   "id": "5c493907",
   "metadata": {},
   "source": [
    " RMSE and bias for model output"
   ]
  },
  {
   "cell_type": "code",
   "execution_count": 79,
   "id": "a76fee33",
   "metadata": {},
   "outputs": [],
   "source": [
    "rmse_model = rmse(model_output, observations)\n",
    "bias_model = bias(model_output, observations)\n"
   ]
  },
  {
   "cell_type": "markdown",
   "id": "1ceb22fa",
   "metadata": {},
   "source": [
    " RMSE and bias for analysis"
   ]
  },
  {
   "cell_type": "code",
   "execution_count": 80,
   "id": "5341179b",
   "metadata": {},
   "outputs": [],
   "source": [
    "rmse_analysis = rmse(analysis, observations)\n",
    "bias_analysis = bias(analysis, observations)\n"
   ]
  },
  {
   "cell_type": "markdown",
   "id": "895f4c7a",
   "metadata": {},
   "source": [
    "Display results"
   ]
  },
  {
   "cell_type": "code",
   "execution_count": 81,
   "id": "49e72eca",
   "metadata": {},
   "outputs": [
    {
     "name": "stdout",
     "output_type": "stream",
     "text": [
      "Model Output: [14.8 15.5 14.  16.  25.3]\n",
      "Observations: [15.2 16.1 14.5 15.8 25. ]\n",
      "Analysis: [15.06666667 15.9        14.33333333 15.86666667 25.1       ]\n",
      "\n",
      "RMSE (Model): 0.42\n",
      "Bias (Model): -0.20\n",
      "RMSE (Analysis): 0.14\n",
      "Bias (Analysis): -0.07\n"
     ]
    }
   ],
   "source": [
    "print(f\"Model Output: {model_output}\")\n",
    "print(f\"Observations: {observations}\")\n",
    "print(f\"Analysis: {analysis}\")\n",
    "\n",
    "print(f\"\\nRMSE (Model): {rmse_model:.2f}\")\n",
    "print(f\"Bias (Model): {bias_model:.2f}\")\n",
    "\n",
    "print(f\"RMSE (Analysis): {rmse_analysis:.2f}\")\n",
    "print(f\"Bias (Analysis): {bias_analysis:.2f}\")"
   ]
  },
  {
   "cell_type": "code",
   "execution_count": null,
   "id": "5d841b56",
   "metadata": {},
   "outputs": [],
   "source": []
  },
  {
   "cell_type": "markdown",
   "id": "524d9df7",
   "metadata": {},
   "source": [
    "Calculate RMSE and Bias"
   ]
  },
  {
   "cell_type": "code",
   "execution_count": 78,
   "id": "ff533be6",
   "metadata": {},
   "outputs": [],
   "source": [
    "\n",
    "rmse_model = calculate_rmse(model_output, observations)\n",
    "bias_model = calculate_bias(model_output, observations)\n",
    "rmse_analysis = calculate_rmse(analysis, observations)\n",
    "bias_analysis = calculate_bias(analysis, observations)\n"
   ]
  },
  {
   "cell_type": "markdown",
   "id": "f49967e6",
   "metadata": {},
   "source": [
    "Print results"
   ]
  },
  {
   "cell_type": "code",
   "execution_count": 76,
   "id": "3826fd55",
   "metadata": {},
   "outputs": [
    {
     "name": "stdout",
     "output_type": "stream",
     "text": [
      "Observations: [15.2 16.1 14.5 15.8 25. ]\n",
      "Model Output: [14.8 15.5 14.  16.  25.3]\n",
      "Analysis: [15.06666667 15.9        14.33333333 15.86666667 25.1       ]\n",
      "RMSE (Model vs Observations): 0.4242640687119287\n",
      "Bias (Model vs Observations): -0.2\n",
      "RMSE (Analysis vs Observations): 0.14142135623730975\n",
      "Bias (Analysis vs Observations): -0.06666666666666643\n"
     ]
    }
   ],
   "source": [
    "print(f\"Observations: {observations}\")\n",
    "print(f\"Model Output: {model_output}\")\n",
    "print(f\"Analysis: {analysis}\")\n",
    "print(f\"RMSE (Model vs Observations): {rmse_model}\")\n",
    "print(f\"Bias (Model vs Observations): {bias_model}\")\n",
    "print(f\"RMSE (Analysis vs Observations): {rmse_analysis}\")\n",
    "print(f\"Bias (Analysis vs Observations): {bias_analysis}\")"
   ]
  },
  {
   "cell_type": "markdown",
   "id": "33953cfe",
   "metadata": {},
   "source": [
    "comparing using timeseries"
   ]
  },
  {
   "cell_type": "code",
   "execution_count": 86,
   "id": "79f5e583",
   "metadata": {},
   "outputs": [
    {
     "data": {
      "image/png": "[encoded data removed]",
      "text/plain": [
       "<Figure size 1000x600 with 1 Axes>"
      ]
     },
     "metadata": {},
     "output_type": "display_data"
    }
   ],
   "source": [
    "days = np.arange(1, 6)\n",
    "plt.figure(figsize=(10, 6))\n",
    "plt.plot(days, observations, label='Observations', marker='o', color='green')\n",
    "plt.plot(days, model_output, label='Model Output', marker='o', color='red')\n",
    "plt.plot(days, analysis, label='Analysis', marker='o', color='yellow')\n",
    "plt.xlabel('Day')\n",
    "plt.ylabel('Temperature (°C)')\n",
    "plt.title('Time Series Comparison')\n",
    "plt.legend()\n",
    "plt.grid(True)\n",
    "plt.show()"
   ]
  },
  {
   "cell_type": "code",
   "execution_count": null,
   "id": "6edfc261",
   "metadata": {},
   "outputs": [],
   "source": []
  },
  {
   "cell_type": "code",
   "execution_count": null,
   "id": "dc2a06c1",
   "metadata": {},
   "outputs": [],
   "source": []
  },
  {
   "cell_type": "markdown",
   "id": "a159027c",
   "metadata": {},
   "source": [
    "# Interpretation\n",
    "1. RMSE (Root Mean Square Error)\n",
    "\n",
    "Model Output RMSE: 0.42\n",
    "Analysis RMSE: 0.14\n",
    "The RMSE for the model output is 0.42, indicating that the predictions from the model have a moderate degree of error when compared to the observed temperatures. After applying the Optimal Interpolation (OI) technique, the RMSE for the analysis is reduced to \n",
    "0.14. This significant reduction in RMSE shows that the analysis is much closer to the observations than the original model output, indicating improved accuracy.\n",
    "\n",
    "2. Bias\n",
    "\n",
    "Model Output Bias:−0.20\n",
    "    \n",
    "Analysis Bias: −0.07\n",
    "\n",
    "The bias for the model output is −0.20, which means that, on average, the model is underestimating the temperature by 0.20 degrees Celsius compared to the observations. The bias for the analysis is \n",
    "−0.07, showing a reduced underestimation. This reduction in bias indicates that the analysis has corrected some of the systematic errors present in the model output.\n",
    "\n",
    "3. Analysis Values\n",
    "The analysis values are intermediate between the model outputs and the observations, effectively balancing the two sources of information.\n",
    "   \n",
    "   \n",
    "  \n",
    "\n",
    "# Conclusion\n",
    "The application of the Optimal Interpolation (OI) technique has demonstrably improved the quality of the temperature estimates. The analysis, which combines the model output with the observations, shows reduced RMSE and bias, indicating both higher accuracy and reduced systematic error. The time series plot and the metrics together confirm that the data assimilation process has effectively adjusted the model predictions closer to the observed values, leading to a more reliable representation of the atmospheric state.\n",
    "\n",
    "\n",
    "\n",
    "\n",
    "\n",
    "\n",
    "\n"
   ]
  },
  {
   "cell_type": "code",
   "execution_count": null,
   "id": "5c280915",
   "metadata": {},
   "outputs": [],
   "source": []
  },
  {
   "cell_type": "markdown",
   "id": "c52664cf",
   "metadata": {},
   "source": [
    "# Interpretation of the Time Series Plot\n",
    "The time series plot shows the temperature observations, model output, and analysis over the 5-day period:\n",
    "\n",
    "Observations: These represent the actual observed temperatures over the 5-day period.\n",
    "\n",
    "Model Output: These represent the temperature predictions made by the numerical weather prediction (NWP) model.\n",
    "\n",
    "Analysis : These represent the temperature estimates after combining the model output with the observations using the Optimal Interpolation (OI) technique.\n",
    "\n",
    "# Key Observations;\n",
    "\n",
    "Improvement in Accuracy:\n",
    "\n",
    "The (Analysis) closely follows the (Observations) compared to the (Model Output). This indicates that the analysis fields are a better estimate of the true atmospheric state than the model output alone.\n",
    "\n",
    "Reduction in Error:\n",
    "\n",
    "The analysis reduces the discrepancies between the model output and observations, as evidenced by the tighter alignment with the observations. The RMSE for the analysis (0.14) is significantly lower than that of the model output (0.42), confirming that the data assimilation process has improved the accuracy.\n",
    "\n",
    "Reduction in Bias: \n",
    "The analysis also shows reduced bias (-0.07) compared to the model output (-0.2), meaning that the systematic error between the predictions and observations has been decreased.\n",
    "\n",
    "\n",
    "Extreme Value Handling:\n",
    "\n",
    "On Day 5, where there is a large jump in temperature, the analysis still performs well, adjusting the model output to be closer to the observed value. This demonstrates that the data assimilation process can handle abrupt changes in the data. \n",
    "\n",
    "# Conclusion\n",
    "The Optimal Interpolation technique has successfully improved the accuracy of the temperature predictions by incorporating observational data. This is evident from both the statistical metrics (reduced RMSE and bias) and the visual comparison (the analysis line closely following the observations). Data assimilation has effectively combined the strengths of the observational data and the model predictions to provide a more accurate and reliable estimate of the atmospheric state.\n",
    "\n",
    "\n",
    "\n",
    "\n",
    "\n",
    "\n"
   ]
  },
  {
   "cell_type": "code",
   "execution_count": null,
   "id": "c6590b79",
   "metadata": {},
   "outputs": [],
   "source": []
  },
  {
   "cell_type": "code",
   "execution_count": null,
   "id": "7491ce98",
   "metadata": {},
   "outputs": [],
   "source": []
  }
 ],
 "metadata": {
  "kernelspec": {
   "display_name": "Python 3 (ipykernel)",
   "language": "python",
   "name": "python3"
  },
  "language_info": {
   "codemirror_mode": {
    "name": "ipython",
    "version": 3
   },
   "file_extension": ".py",
   "mimetype": "text/x-python",
   "name": "python",
   "nbconvert_exporter": "python",
   "pygments_lexer": "ipython3",
   "version": "3.11.5"
  }
 },
 "nbformat": 4,
 "nbformat_minor": 5
}
